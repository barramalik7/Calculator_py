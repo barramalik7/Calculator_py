{
 "cells": [
  {
   "cell_type": "code",
   "execution_count": 1,
   "id": "10716bce-48a7-4a70-aa13-99758eee6fb1",
   "metadata": {},
   "outputs": [],
   "source": [
    "import tkinter as tk"
   ]
  },
  {
   "cell_type": "code",
   "execution_count": 2,
   "id": "5d458607-5e6e-4e09-af91-e0e7870d937c",
   "metadata": {},
   "outputs": [],
   "source": [
    "def calculate():\n",
    "    # Get the input from the user\n",
    "    num1 = float(num1_entry.get())\n",
    "    num2 = float(num2_entry.get())\n",
    "    operator = operator_var.get()\n",
    "\n",
    "    # Perform the calculation\n",
    "    if operator == \"+\":\n",
    "        result = num1 + num2\n",
    "    elif operator == \"-\":\n",
    "        result = num1 - num2\n",
    "    elif operator == \"*\":\n",
    "        result = num1 * num2\n",
    "    elif operator == \"/\":\n",
    "        result = num1 / num2\n",
    "    else:\n",
    "        result = \"Invalid operator\"\n",
    "\n",
    "    # Display the result\n",
    "    result_label.config(text=\"Result: \" + str(result))"
   ]
  },
  {
   "cell_type": "code",
   "execution_count": null,
   "id": "1e03e003-cd93-450c-97bf-25ae2fe6f16b",
   "metadata": {},
   "outputs": [],
   "source": [
    "# Create the main window\n",
    "root = tk.Tk()\n",
    "root.title(\"Calculator\")\n",
    "\n",
    "# Create the input fields\n",
    "num1_label = tk.Label(root, text=\"Number 1:\")\n",
    "num1_label.grid(row=0, column=0)\n",
    "num1_entry = tk.Entry(root)\n",
    "num1_entry.grid(row=0, column=1)\n",
    "\n",
    "num2_label = tk.Label(root, text=\"Number 2:\")\n",
    "num2_label.grid(row=1, column=0)\n",
    "num2_entry = tk.Entry(root)\n",
    "num2_entry.grid(row=1, column=1)\n",
    "\n",
    "# Create the operator field\n",
    "operator_var = tk.StringVar(value=\"+\")\n",
    "operator_label = tk.Label(root, text=\"Operator:\")\n",
    "operator_label.grid(row=2, column=0)\n",
    "operator_menu = tk.OptionMenu(root, operator_var, \"+\", \"-\", \"*\", \"/\")\n",
    "operator_menu.grid(row=2, column=1)\n",
    "\n",
    "# Create the calculate button\n",
    "calculate_button = tk.Button(root, text=\"Calculate\", command=calculate)\n",
    "calculate_button.grid(row=3, column=0, columnspan=2)\n",
    "\n",
    "# Create the result label\n",
    "result_label = tk.Label(root, text=\"Result:\")\n",
    "result_label.grid(row=4, column=0, columnspan=2)\n",
    "\n",
    "# Run the program\n",
    "root.mainloop()\n"
   ]
  }
 ],
 "metadata": {
  "kernelspec": {
   "display_name": "Python 3 (ipykernel)",
   "language": "python",
   "name": "python3"
  },
  "language_info": {
   "codemirror_mode": {
    "name": "ipython",
    "version": 3
   },
   "file_extension": ".py",
   "mimetype": "text/x-python",
   "name": "python",
   "nbconvert_exporter": "python",
   "pygments_lexer": "ipython3",
   "version": "3.9.13"
  }
 },
 "nbformat": 4,
 "nbformat_minor": 5
}
